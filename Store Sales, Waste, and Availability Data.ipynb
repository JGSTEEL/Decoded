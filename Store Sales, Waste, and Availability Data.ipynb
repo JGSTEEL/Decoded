{
 "cells": [
  {
   "cell_type": "markdown",
   "metadata": {},
   "source": [
    "# The Relationship between store Sales, Waste, and Availability for finanacial year 17/18\n",
    "\n",
    "## Problem Statement\n",
    "\n",
    "Do stores with high waste and low sales have lower availability\n",
    "\n",
    "## Overview\n",
    "\n",
    "Clustering exercise to group stores across the estate by key metric indicators. \n",
    "\n",
    "The initial plan for this project is as follows:\n",
    "\n",
    "1.Source the data \n",
    "2.Explore the data\n",
    "3.Clean the data\n",
    "4.Prepare the data for analysis\n",
    "5.Run K-means clustering on the data\n",
    "6.Evaluate the data\n",
    "\n",
    "This is my first independent data science project, I am hoping to identify stores where my team will have an opportunity to improve availability for customers\n",
    "\n",
    "## Sourcing the Data\n",
    "\n",
    "This data was pulled out of SAP Business Objects using a manually generated query. This query contains no personally identifying information but does contain commercially sensitive data.\n",
    "\n",
    "## Exploring the Data\n"
   ]
  },
  {
   "cell_type": "code",
   "execution_count": 4,
   "metadata": {},
   "outputs": [],
   "source": [
    "# Importing necessary data file and packages for data exploration and analysis\n",
    "\n",
    "# Import the pandas library in order to read, transform and manipulate the data\n",
    "import pandas as pd\n",
    "\n",
    "# Import matplotlib to visualise the data\n",
    "import matplotlib.pyplot as plt\n",
    "\n",
    "# Import the sklearn library in order to implement machine learning algorithms. Note, that we only import the \n",
    "# functions we'll need from sklearn (cluster & preprocessing).\n",
    "from sklearn.cluster import KMeans\n",
    "\n",
    "# From sklearn import a function that allows us to scale the our data\n",
    "from sklearn.preprocessing import scale\n",
    "\n",
    "#Importing Numpy to help to clean Data\n",
    "import numpy as np\n",
    "\n",
    "# Command that enables us to display the graphs in our Jupyter notebook (right here!)\n",
    "%matplotlib inline"
   ]
  },
  {
   "cell_type": "code",
   "execution_count": 5,
   "metadata": {},
   "outputs": [],
   "source": [
    "# Importing the data to analyse\n",
    "storeinfo = pd.read_csv('waste_sales_avail.csv')"
   ]
  },
  {
   "cell_type": "code",
   "execution_count": 6,
   "metadata": {},
   "outputs": [
    {
     "data": {
      "text/html": [
       "<div>\n",
       "<style scoped>\n",
       "    .dataframe tbody tr th:only-of-type {\n",
       "        vertical-align: middle;\n",
       "    }\n",
       "\n",
       "    .dataframe tbody tr th {\n",
       "        vertical-align: top;\n",
       "    }\n",
       "\n",
       "    .dataframe thead th {\n",
       "        text-align: right;\n",
       "    }\n",
       "</style>\n",
       "<table border=\"1\" class=\"dataframe\">\n",
       "  <thead>\n",
       "    <tr style=\"text-align: right;\">\n",
       "      <th></th>\n",
       "      <th>Site Name</th>\n",
       "      <th>Site Code (Corp)</th>\n",
       "      <th>Area Name</th>\n",
       "      <th>Area Code</th>\n",
       "      <th>STG Name</th>\n",
       "      <th>STG Code</th>\n",
       "      <th>Gross Retail Sales (GBP)</th>\n",
       "      <th>Gross Retail Sales (Units)</th>\n",
       "      <th>Total Waste (GBP)</th>\n",
       "      <th>Total Waste (Units)</th>\n",
       "      <th>Availability</th>\n",
       "    </tr>\n",
       "  </thead>\n",
       "  <tbody>\n",
       "    <tr>\n",
       "      <th>0</th>\n",
       "      <td>ABBEY CENTRE BELFAST</td>\n",
       "      <td>6952</td>\n",
       "      <td>NORTHERN IRELAND REGION</td>\n",
       "      <td>ZARE0025</td>\n",
       "      <td>LGE OUT OF TOWN</td>\n",
       "      <td>LGOT</td>\n",
       "      <td>20,020,168.32</td>\n",
       "      <td>7,979,544.49</td>\n",
       "      <td>1,515,686.76</td>\n",
       "      <td>550,574.23</td>\n",
       "      <td>95.49</td>\n",
       "    </tr>\n",
       "    <tr>\n",
       "      <th>1</th>\n",
       "      <td>ABERDEEN</td>\n",
       "      <td>2587</td>\n",
       "      <td>SCOTLAND NORTH &amp; EAST</td>\n",
       "      <td>ZARE0073</td>\n",
       "      <td>CITY CENTRES</td>\n",
       "      <td>CC</td>\n",
       "      <td>15,054,656.92</td>\n",
       "      <td>6,408,321.82</td>\n",
       "      <td>1,414,956.05</td>\n",
       "      <td>548,783.29</td>\n",
       "      <td>94.64</td>\n",
       "    </tr>\n",
       "    <tr>\n",
       "      <th>2</th>\n",
       "      <td>ABERYSTWYTH</td>\n",
       "      <td>1930</td>\n",
       "      <td>SOUTH WALES &amp; WEST</td>\n",
       "      <td>ZARE0080</td>\n",
       "      <td>SMALL TOWN</td>\n",
       "      <td>SMLTO</td>\n",
       "      <td>5,593,407.67</td>\n",
       "      <td>2,225,648.61</td>\n",
       "      <td>730,088.72</td>\n",
       "      <td>296,854.64</td>\n",
       "      <td>94.2</td>\n",
       "    </tr>\n",
       "    <tr>\n",
       "      <th>3</th>\n",
       "      <td>ACORN PARK</td>\n",
       "      <td>1988</td>\n",
       "      <td>HOME COUNTIES SOUTH</td>\n",
       "      <td>ZARE0064</td>\n",
       "      <td>SML OUT OF TOWN</td>\n",
       "      <td>SOOT</td>\n",
       "      <td>7,133,873.75</td>\n",
       "      <td>2,900,626.34</td>\n",
       "      <td>785,749.61</td>\n",
       "      <td>314,887.46</td>\n",
       "      <td>94.32</td>\n",
       "    </tr>\n",
       "    <tr>\n",
       "      <th>4</th>\n",
       "      <td>AINTREE</td>\n",
       "      <td>132</td>\n",
       "      <td>MERSEYSIDE, NORTH WALES &amp; IOM</td>\n",
       "      <td>ZARE0067</td>\n",
       "      <td>SML OUT OF TOWN</td>\n",
       "      <td>SOOT</td>\n",
       "      <td>12,945,741.07</td>\n",
       "      <td>5,133,369.09</td>\n",
       "      <td>907,010.92</td>\n",
       "      <td>338,136.53</td>\n",
       "      <td>95.83</td>\n",
       "    </tr>\n",
       "  </tbody>\n",
       "</table>\n",
       "</div>"
      ],
      "text/plain": [
       "              Site Name  Site Code (Corp)                      Area Name  \\\n",
       "0  ABBEY CENTRE BELFAST              6952        NORTHERN IRELAND REGION   \n",
       "1              ABERDEEN              2587          SCOTLAND NORTH & EAST   \n",
       "2           ABERYSTWYTH              1930             SOUTH WALES & WEST   \n",
       "3            ACORN PARK              1988            HOME COUNTIES SOUTH   \n",
       "4               AINTREE               132  MERSEYSIDE, NORTH WALES & IOM   \n",
       "\n",
       "  Area Code         STG Name STG Code Gross Retail Sales (GBP)  \\\n",
       "0  ZARE0025  LGE OUT OF TOWN     LGOT            20,020,168.32   \n",
       "1  ZARE0073     CITY CENTRES       CC            15,054,656.92   \n",
       "2  ZARE0080       SMALL TOWN    SMLTO             5,593,407.67   \n",
       "3  ZARE0064  SML OUT OF TOWN     SOOT             7,133,873.75   \n",
       "4  ZARE0067  SML OUT OF TOWN     SOOT            12,945,741.07   \n",
       "\n",
       "  Gross Retail Sales (Units) Total Waste (GBP) Total Waste (Units)  \\\n",
       "0               7,979,544.49      1,515,686.76          550,574.23   \n",
       "1               6,408,321.82      1,414,956.05          548,783.29   \n",
       "2               2,225,648.61        730,088.72          296,854.64   \n",
       "3               2,900,626.34        785,749.61          314,887.46   \n",
       "4               5,133,369.09        907,010.92          338,136.53   \n",
       "\n",
       "  Availability  \n",
       "0        95.49  \n",
       "1        94.64  \n",
       "2         94.2  \n",
       "3        94.32  \n",
       "4        95.83  "
      ]
     },
     "execution_count": 6,
     "metadata": {},
     "output_type": "execute_result"
    }
   ],
   "source": [
    "#Looking at the raw data\n",
    "storeinfo.head()"
   ]
  },
  {
   "cell_type": "code",
   "execution_count": 7,
   "metadata": {},
   "outputs": [
    {
     "data": {
      "text/plain": [
       "Site Name                     object\n",
       "Site Code (Corp)               int64\n",
       "Area Name                     object\n",
       "Area Code                     object\n",
       "STG Name                      object\n",
       "STG Code                      object\n",
       "Gross Retail Sales (GBP)      object\n",
       "Gross Retail Sales (Units)    object\n",
       "Total Waste (GBP)             object\n",
       "Total Waste (Units)           object\n",
       "Availability                  object\n",
       "dtype: object"
      ]
     },
     "execution_count": 7,
     "metadata": {},
     "output_type": "execute_result"
    }
   ],
   "source": [
    "#Exploring the type of data in the data file\n",
    "storeinfo.dtypes"
   ]
  },
  {
   "cell_type": "markdown",
   "metadata": {},
   "source": [
    "### Data Types\n",
    "\n",
    "There are elements of the data that needs to be cleaned. Gross retail sales, Gross Retail Units, Total Waste (GBP), Total Waste (Units) and Availability are all stored as objects. \n",
    "\n",
    "The comma's in the sales and waste columns also need to be removed."
   ]
  },
  {
   "cell_type": "code",
   "execution_count": 8,
   "metadata": {},
   "outputs": [
    {
     "data": {
      "text/plain": [
       "0    550574.23\n",
       "1    548783.29\n",
       "2    296854.64\n",
       "3    314887.46\n",
       "4    338136.53\n",
       "Name: Total Waste (Units), dtype: object"
      ]
     },
     "execution_count": 8,
     "metadata": {},
     "output_type": "execute_result"
    }
   ],
   "source": [
    "# Removing the comma's and checking this has worked\n",
    "storeinfo['Gross Retail Sales (GBP)'] = storeinfo['Gross Retail Sales (GBP)'].replace(',','', regex = True)\n",
    "storeinfo['Gross Retail Sales (Units)'] = storeinfo['Gross Retail Sales (Units)'].replace(',','', regex = True)\n",
    "storeinfo['Total Waste (GBP)'] = storeinfo['Total Waste (GBP)'].replace(',','', regex = True)\n",
    "storeinfo['Total Waste (Units)'] = storeinfo['Total Waste (Units)'].replace(',','', regex = True)\n",
    "storeinfo['Total Waste (Units)'].head()"
   ]
  },
  {
   "cell_type": "code",
   "execution_count": 9,
   "metadata": {},
   "outputs": [
    {
     "data": {
      "text/plain": [
       "Site Name                     object\n",
       "Site Code (Corp)               int64\n",
       "Area Name                     object\n",
       "Area Code                     object\n",
       "STG Name                      object\n",
       "STG Code                      object\n",
       "Gross Retail Sales (GBP)      object\n",
       "Gross Retail Sales (Units)    object\n",
       "Total Waste (GBP)             object\n",
       "Total Waste (Units)           object\n",
       "Availability                  object\n",
       "dtype: object"
      ]
     },
     "execution_count": 9,
     "metadata": {},
     "output_type": "execute_result"
    }
   ],
   "source": [
    "storeinfo.dtypes\n"
   ]
  },
  {
   "cell_type": "code",
   "execution_count": 10,
   "metadata": {},
   "outputs": [
    {
     "data": {
      "text/plain": [
       "array(['95.49', '94.64', '94.2', '94.32', '95.83', '92.54', '94.54',\n",
       "       '94.95', '94.82', '90.54', '94.51', '93.79', '94.52', '94.8',\n",
       "       '94.91', '94.61', '93.81', '94.42', '100', '94.53', '95.48',\n",
       "       '99.26', '90.02', '94.07', '93.49', '95.05', '94.41', '95.73',\n",
       "       '94.73', '95.41', '95.09', '94.85', '94.29', '95.19', '95.16',\n",
       "       '95.54', '#DIV/0', '92.89', '94.79', '95.04', '93.13', '93.5',\n",
       "       '93.16', '94.86', '94.34', '94.37', '94.4', '95.07', '95.11',\n",
       "       '95.31', '94.58', '95.12', '95.03', '92.43', '94.6', '94.78',\n",
       "       '95.42', '95.32', '92.07', '95.1', '93.39', '96.31', '92.35',\n",
       "       '93.17', '94', '95.06', '95.08', '94.72', '95.21', '91.69',\n",
       "       '99.96', '93.09', '92.34', '93.85', '94.13', '94.77', '95.81',\n",
       "       '99.74', '94.99', '94.65', '94.23', '93.72', '91.77', '94.43',\n",
       "       '95.39', '93.65', '92.94', '95.17', '94.44', '94.63', '95.88',\n",
       "       '92.96', '94.39', '94.08', '95.25', '94.89', '94.74', '91.56',\n",
       "       '95.14', '94.18', '93.63', '94.02', '94.96', '93.71', '94.93',\n",
       "       '94.62', '95.23', '99.51', '93.74', '94.36', '93.97', '94.71',\n",
       "       '93.94', '94.57', '95.55', '93.58', '95.75', '94.55', '93.73',\n",
       "       '95.51', '94.47', '92.58', '92.05', '95.18', '96.13', '91.31',\n",
       "       '95.87', '95', '93.05', '94.45', '94.75', '93.67', '92.23',\n",
       "       '68.32', '95.9', '94.31', '94.49', '94.7', '94.68', '93.57',\n",
       "       '95.24', '92.21', '93.75', '94.33', '99.99', '94.48', '93.76',\n",
       "       '95.78', '73.35', '94.69', '93.37', '95.37', '95.15', '90.95',\n",
       "       '90.92', '93.33', '91.75', '93.96', '95.36', '95.01', '92.97',\n",
       "       '95.43', '88.5', '93.26', '92.88', '93.68', '94.14', '94.5',\n",
       "       '95.57', '92.99', '94.66', '93.62', '93.92', '93.84', '93.24',\n",
       "       '92.79', '94.27', '94.97', '93.88', '94.12', '95.47', '93.23',\n",
       "       '91.59', '91.52', '93', '94.03', '92.76', '95.76', '94.92',\n",
       "       '94.56', '92.91', '92.85', '93.99', '95.4', '93.9', '99.65',\n",
       "       '95.45', '94.04', '94.22', '94.94', '95.22', '95.59', '94.87',\n",
       "       '93.77', '94.38', '93.98', '99.92', '94.01', '91.14', '97.03',\n",
       "       '95.13', '93.8', '92.8', '91.33', '95.52', '95.95', '88.97',\n",
       "       '94.59', '95.44', '94.67', '95.28', '95.02', '94.06', '95.56',\n",
       "       '94.1', '92.77', '93.32', '94.16', '95.61', '34.92', '93.83',\n",
       "       '95.26', '95.2', nan, '95.27', '90.62', '94.98', '92.52', '95.74',\n",
       "       '93.54', '14.98', '93.87', '94.24', '94.28', '93.53', '94.9',\n",
       "       '95.35', '91.89', '95.64', '95.5', '93.91', '99.43', '95.66',\n",
       "       '94.25', '94.15', '0', '94.76', '92.55', '94.35', '90.68', '93.66',\n",
       "       '94.19', '94.09', '94.26', '97.82', '94.3', '93.31', '93.78',\n",
       "       '99.88', '95.79', '7.36', '95.34', '95.67', '93.61', '93.48',\n",
       "       '95.29', '94.46', '92.7', '93.44', '93.64', '94.88', '93.6',\n",
       "       '93.59', '95.58', '94.17', '95.46', '92.06'], dtype=object)"
      ]
     },
     "execution_count": 10,
     "metadata": {},
     "output_type": "execute_result"
    }
   ],
   "source": [
    "#I am unsure why the availability column is classed as an object so I am going to look at the unique values within it\n",
    "storeinfo.Availability.unique()"
   ]
  },
  {
   "cell_type": "code",
   "execution_count": 11,
   "metadata": {},
   "outputs": [],
   "source": [
    "# I can see there are non numerical data types within the column which need to be removed - nan and #DIV/0\n",
    "storeinfo['Availability'] = storeinfo['Availability'].replace('#DIV/0','nan', regex = True)\n"
   ]
  },
  {
   "cell_type": "code",
   "execution_count": 12,
   "metadata": {},
   "outputs": [
    {
     "data": {
      "text/plain": [
       "array(['95.49', '94.64', '94.2', '94.32', '95.83', '92.54', '94.54',\n",
       "       '94.95', '94.82', '90.54', '94.51', '93.79', '94.52', '94.8',\n",
       "       '94.91', '94.61', '93.81', '94.42', '100', '94.53', '95.48',\n",
       "       '99.26', '90.02', '94.07', '93.49', '95.05', '94.41', '95.73',\n",
       "       '94.73', '95.41', '95.09', '94.85', '94.29', '95.19', '95.16',\n",
       "       '95.54', 'nan', '92.89', '94.79', '95.04', '93.13', '93.5',\n",
       "       '93.16', '94.86', '94.34', '94.37', '94.4', '95.07', '95.11',\n",
       "       '95.31', '94.58', '95.12', '95.03', '92.43', '94.6', '94.78',\n",
       "       '95.42', '95.32', '92.07', '95.1', '93.39', '96.31', '92.35',\n",
       "       '93.17', '94', '95.06', '95.08', '94.72', '95.21', '91.69',\n",
       "       '99.96', '93.09', '92.34', '93.85', '94.13', '94.77', '95.81',\n",
       "       '99.74', '94.99', '94.65', '94.23', '93.72', '91.77', '94.43',\n",
       "       '95.39', '93.65', '92.94', '95.17', '94.44', '94.63', '95.88',\n",
       "       '92.96', '94.39', '94.08', '95.25', '94.89', '94.74', '91.56',\n",
       "       '95.14', '94.18', '93.63', '94.02', '94.96', '93.71', '94.93',\n",
       "       '94.62', '95.23', '99.51', '93.74', '94.36', '93.97', '94.71',\n",
       "       '93.94', '94.57', '95.55', '93.58', '95.75', '94.55', '93.73',\n",
       "       '95.51', '94.47', '92.58', '92.05', '95.18', '96.13', '91.31',\n",
       "       '95.87', '95', '93.05', '94.45', '94.75', '93.67', '92.23',\n",
       "       '68.32', '95.9', '94.31', '94.49', '94.7', '94.68', '93.57',\n",
       "       '95.24', '92.21', '93.75', '94.33', '99.99', '94.48', '93.76',\n",
       "       '95.78', '73.35', '94.69', '93.37', '95.37', '95.15', '90.95',\n",
       "       '90.92', '93.33', '91.75', '93.96', '95.36', '95.01', '92.97',\n",
       "       '95.43', '88.5', '93.26', '92.88', '93.68', '94.14', '94.5',\n",
       "       '95.57', '92.99', '94.66', '93.62', '93.92', '93.84', '93.24',\n",
       "       '92.79', '94.27', '94.97', '93.88', '94.12', '95.47', '93.23',\n",
       "       '91.59', '91.52', '93', '94.03', '92.76', '95.76', '94.92',\n",
       "       '94.56', '92.91', '92.85', '93.99', '95.4', '93.9', '99.65',\n",
       "       '95.45', '94.04', '94.22', '94.94', '95.22', '95.59', '94.87',\n",
       "       '93.77', '94.38', '93.98', '99.92', '94.01', '91.14', '97.03',\n",
       "       '95.13', '93.8', '92.8', '91.33', '95.52', '95.95', '88.97',\n",
       "       '94.59', '95.44', '94.67', '95.28', '95.02', '94.06', '95.56',\n",
       "       '94.1', '92.77', '93.32', '94.16', '95.61', '34.92', '93.83',\n",
       "       '95.26', '95.2', nan, '95.27', '90.62', '94.98', '92.52', '95.74',\n",
       "       '93.54', '14.98', '93.87', '94.24', '94.28', '93.53', '94.9',\n",
       "       '95.35', '91.89', '95.64', '95.5', '93.91', '99.43', '95.66',\n",
       "       '94.25', '94.15', '0', '94.76', '92.55', '94.35', '90.68', '93.66',\n",
       "       '94.19', '94.09', '94.26', '97.82', '94.3', '93.31', '93.78',\n",
       "       '99.88', '95.79', '7.36', '95.34', '95.67', '93.61', '93.48',\n",
       "       '95.29', '94.46', '92.7', '93.44', '93.64', '94.88', '93.6',\n",
       "       '93.59', '95.58', '94.17', '95.46', '92.06'], dtype=object)"
      ]
     },
     "execution_count": 12,
     "metadata": {},
     "output_type": "execute_result"
    }
   ],
   "source": [
    "storeinfo.Availability.unique()"
   ]
  },
  {
   "cell_type": "code",
   "execution_count": 13,
   "metadata": {},
   "outputs": [],
   "source": [
    "# Now I need to remove the nan\n",
    "storeinfo = storeinfo.dropna()"
   ]
  },
  {
   "cell_type": "code",
   "execution_count": 14,
   "metadata": {},
   "outputs": [
    {
     "data": {
      "text/plain": [
       "array(['95.49', '94.64', '94.2', '94.32', '95.83', '92.54', '94.54',\n",
       "       '94.95', '94.82', '90.54', '94.51', '93.79', '94.52', '94.8',\n",
       "       '94.91', '94.61', '93.81', '94.42', '100', '94.53', '95.48',\n",
       "       '90.02', '94.07', '93.49', '95.05', '94.41', '95.73', '94.73',\n",
       "       '95.41', '95.09', '94.85', '94.29', '95.19', '95.16', '95.54',\n",
       "       '92.89', '94.79', '95.04', '93.13', '93.5', '93.16', '94.86',\n",
       "       '94.34', '94.37', '94.4', '95.07', '95.11', '95.31', '94.58',\n",
       "       '95.12', '95.03', '92.43', '94.6', '94.78', '95.42', '95.32',\n",
       "       '92.07', '95.1', '93.39', '96.31', '92.35', '93.17', '94', '95.06',\n",
       "       '95.08', '94.72', '95.21', '91.69', '93.09', '92.34', '93.85',\n",
       "       '94.13', '94.77', '95.81', '94.99', '94.65', '94.23', '93.72',\n",
       "       '91.77', '94.43', '95.39', '93.65', '92.94', '95.17', '94.44',\n",
       "       '94.63', '95.88', '92.96', '94.39', '94.08', '95.25', '94.89',\n",
       "       '94.74', '91.56', '95.14', '94.18', '93.63', '94.02', '94.96',\n",
       "       '93.71', '94.93', '94.62', '95.23', '93.74', '94.36', '93.97',\n",
       "       '94.71', '93.94', '94.57', '95.55', '93.58', '95.75', '94.55',\n",
       "       '93.73', '95.51', '94.47', '92.58', '92.05', '95.18', '96.13',\n",
       "       '91.31', '95.87', '95', '93.05', '94.45', '94.75', '93.67',\n",
       "       '92.23', '68.32', '95.9', '94.31', '94.49', '94.7', '94.68',\n",
       "       '93.57', '95.24', '92.21', '93.75', '94.33', '99.99', '94.48',\n",
       "       '93.76', '95.78', '94.69', '93.37', '95.37', '95.15', '90.95',\n",
       "       '90.92', '93.33', '91.75', '93.96', '95.36', '95.01', '92.97',\n",
       "       '95.43', '88.5', '93.26', '92.88', '93.68', '94.14', '94.5',\n",
       "       '95.57', '92.99', '94.66', '93.62', '93.92', '93.84', '93.24',\n",
       "       '92.79', '94.27', '94.97', '93.88', '94.12', '95.47', '93.23',\n",
       "       '91.59', '91.52', '93', '94.03', '92.76', '95.76', '94.92',\n",
       "       '94.56', '92.91', '92.85', '93.99', '95.4', '93.9', '95.45',\n",
       "       '94.04', '94.22', '94.94', '95.22', '95.59', '94.87', '93.77',\n",
       "       '94.38', '93.98', '94.01', '91.14', '97.03', '95.13', '93.8',\n",
       "       '92.8', '91.33', '95.52', '95.95', '88.97', '94.59', '95.44',\n",
       "       '94.67', '95.28', '95.02', '94.06', '95.56', '94.1', '92.77',\n",
       "       '93.32', '94.16', '95.61', '34.92', '93.83', '95.26', '95.2',\n",
       "       '95.27', '90.62', '94.98', '92.52', '95.74', '93.54', '14.98',\n",
       "       '93.87', '94.24', '94.28', '93.53', '94.9', '95.35', '91.89',\n",
       "       '95.64', '95.5', '93.91', '95.66', '94.25', '94.15', '94.76',\n",
       "       '92.55', '94.35', '90.68', '93.66', '94.19', '94.09', '94.26',\n",
       "       '97.82', '94.3', '93.31', '93.78', '95.79', '95.34', '95.67',\n",
       "       '93.61', '93.48', '95.29', '94.46', '92.7', '93.44', '93.64',\n",
       "       '94.88', '93.6', '93.59', '95.58', '94.17', '95.46', '92.06'],\n",
       "      dtype=object)"
      ]
     },
     "execution_count": 14,
     "metadata": {},
     "output_type": "execute_result"
    }
   ],
   "source": [
    "storeinfo.Availability.unique()"
   ]
  },
  {
   "cell_type": "code",
   "execution_count": 15,
   "metadata": {},
   "outputs": [
    {
     "data": {
      "text/plain": [
       "dtype('float64')"
      ]
     },
     "execution_count": 15,
     "metadata": {},
     "output_type": "execute_result"
    }
   ],
   "source": [
    "#I can now change the datatype from an object to a float\n",
    "storeinfo['Availability'] = storeinfo['Availability'].astype(float)\n",
    "storeinfo['Availability'].dtype"
   ]
  },
  {
   "cell_type": "code",
   "execution_count": 16,
   "metadata": {},
   "outputs": [],
   "source": [
    "#Knowing the above code has worked to change the data type in the availability column is will now do the same for the other measure\n",
    "storeinfo['Gross Retail Sales (Units)'] = storeinfo['Gross Retail Sales (Units)'].astype(float)\n",
    "storeinfo['Gross Retail Sales (GBP)'] = storeinfo['Gross Retail Sales (GBP)'].astype(float)\n",
    "storeinfo['Total Waste (GBP)'] = storeinfo['Total Waste (GBP)'].astype(float)\n",
    "storeinfo['Total Waste (Units)'] = storeinfo['Total Waste (Units)'].astype(float)"
   ]
  },
  {
   "cell_type": "code",
   "execution_count": 17,
   "metadata": {
    "scrolled": true
   },
   "outputs": [
    {
     "data": {
      "text/plain": [
       "Site Name                      object\n",
       "Site Code (Corp)                int64\n",
       "Area Name                      object\n",
       "Area Code                      object\n",
       "STG Name                       object\n",
       "STG Code                       object\n",
       "Gross Retail Sales (GBP)      float64\n",
       "Gross Retail Sales (Units)    float64\n",
       "Total Waste (GBP)             float64\n",
       "Total Waste (Units)           float64\n",
       "Availability                  float64\n",
       "dtype: object"
      ]
     },
     "execution_count": 17,
     "metadata": {},
     "output_type": "execute_result"
    }
   ],
   "source": [
    "#checking the data types\n",
    "storeinfo.dtypes"
   ]
  },
  {
   "cell_type": "code",
   "execution_count": 18,
   "metadata": {},
   "outputs": [
    {
     "data": {
      "text/html": [
       "<div>\n",
       "<style scoped>\n",
       "    .dataframe tbody tr th:only-of-type {\n",
       "        vertical-align: middle;\n",
       "    }\n",
       "\n",
       "    .dataframe tbody tr th {\n",
       "        vertical-align: top;\n",
       "    }\n",
       "\n",
       "    .dataframe thead th {\n",
       "        text-align: right;\n",
       "    }\n",
       "</style>\n",
       "<table border=\"1\" class=\"dataframe\">\n",
       "  <thead>\n",
       "    <tr style=\"text-align: right;\">\n",
       "      <th></th>\n",
       "      <th>Site Name</th>\n",
       "      <th>Site Code (Corp)</th>\n",
       "      <th>Area Name</th>\n",
       "      <th>Area Code</th>\n",
       "      <th>STG Name</th>\n",
       "      <th>STG Code</th>\n",
       "      <th>Gross Retail Sales (GBP)</th>\n",
       "      <th>Gross Retail Sales (Units)</th>\n",
       "      <th>Total Waste (GBP)</th>\n",
       "      <th>Total Waste (Units)</th>\n",
       "      <th>Availability</th>\n",
       "    </tr>\n",
       "  </thead>\n",
       "  <tbody>\n",
       "    <tr>\n",
       "      <th>0</th>\n",
       "      <td>ABBEY CENTRE BELFAST</td>\n",
       "      <td>6952</td>\n",
       "      <td>NORTHERN IRELAND REGION</td>\n",
       "      <td>ZARE0025</td>\n",
       "      <td>LGE OUT OF TOWN</td>\n",
       "      <td>LGOT</td>\n",
       "      <td>20020168.32</td>\n",
       "      <td>7979544.49</td>\n",
       "      <td>1515686.76</td>\n",
       "      <td>550574.23</td>\n",
       "      <td>95.49</td>\n",
       "    </tr>\n",
       "    <tr>\n",
       "      <th>1</th>\n",
       "      <td>ABERDEEN</td>\n",
       "      <td>2587</td>\n",
       "      <td>SCOTLAND NORTH &amp; EAST</td>\n",
       "      <td>ZARE0073</td>\n",
       "      <td>CITY CENTRES</td>\n",
       "      <td>CC</td>\n",
       "      <td>15054656.92</td>\n",
       "      <td>6408321.82</td>\n",
       "      <td>1414956.05</td>\n",
       "      <td>548783.29</td>\n",
       "      <td>94.64</td>\n",
       "    </tr>\n",
       "    <tr>\n",
       "      <th>2</th>\n",
       "      <td>ABERYSTWYTH</td>\n",
       "      <td>1930</td>\n",
       "      <td>SOUTH WALES &amp; WEST</td>\n",
       "      <td>ZARE0080</td>\n",
       "      <td>SMALL TOWN</td>\n",
       "      <td>SMLTO</td>\n",
       "      <td>5593407.67</td>\n",
       "      <td>2225648.61</td>\n",
       "      <td>730088.72</td>\n",
       "      <td>296854.64</td>\n",
       "      <td>94.20</td>\n",
       "    </tr>\n",
       "    <tr>\n",
       "      <th>3</th>\n",
       "      <td>ACORN PARK</td>\n",
       "      <td>1988</td>\n",
       "      <td>HOME COUNTIES SOUTH</td>\n",
       "      <td>ZARE0064</td>\n",
       "      <td>SML OUT OF TOWN</td>\n",
       "      <td>SOOT</td>\n",
       "      <td>7133873.75</td>\n",
       "      <td>2900626.34</td>\n",
       "      <td>785749.61</td>\n",
       "      <td>314887.46</td>\n",
       "      <td>94.32</td>\n",
       "    </tr>\n",
       "    <tr>\n",
       "      <th>4</th>\n",
       "      <td>AINTREE</td>\n",
       "      <td>132</td>\n",
       "      <td>MERSEYSIDE, NORTH WALES &amp; IOM</td>\n",
       "      <td>ZARE0067</td>\n",
       "      <td>SML OUT OF TOWN</td>\n",
       "      <td>SOOT</td>\n",
       "      <td>12945741.07</td>\n",
       "      <td>5133369.09</td>\n",
       "      <td>907010.92</td>\n",
       "      <td>338136.53</td>\n",
       "      <td>95.83</td>\n",
       "    </tr>\n",
       "  </tbody>\n",
       "</table>\n",
       "</div>"
      ],
      "text/plain": [
       "              Site Name  Site Code (Corp)                      Area Name  \\\n",
       "0  ABBEY CENTRE BELFAST              6952        NORTHERN IRELAND REGION   \n",
       "1              ABERDEEN              2587          SCOTLAND NORTH & EAST   \n",
       "2           ABERYSTWYTH              1930             SOUTH WALES & WEST   \n",
       "3            ACORN PARK              1988            HOME COUNTIES SOUTH   \n",
       "4               AINTREE               132  MERSEYSIDE, NORTH WALES & IOM   \n",
       "\n",
       "  Area Code         STG Name STG Code  Gross Retail Sales (GBP)  \\\n",
       "0  ZARE0025  LGE OUT OF TOWN     LGOT               20020168.32   \n",
       "1  ZARE0073     CITY CENTRES       CC               15054656.92   \n",
       "2  ZARE0080       SMALL TOWN    SMLTO                5593407.67   \n",
       "3  ZARE0064  SML OUT OF TOWN     SOOT                7133873.75   \n",
       "4  ZARE0067  SML OUT OF TOWN     SOOT               12945741.07   \n",
       "\n",
       "   Gross Retail Sales (Units)  Total Waste (GBP)  Total Waste (Units)  \\\n",
       "0                  7979544.49         1515686.76            550574.23   \n",
       "1                  6408321.82         1414956.05            548783.29   \n",
       "2                  2225648.61          730088.72            296854.64   \n",
       "3                  2900626.34          785749.61            314887.46   \n",
       "4                  5133369.09          907010.92            338136.53   \n",
       "\n",
       "   Availability  \n",
       "0         95.49  \n",
       "1         94.64  \n",
       "2         94.20  \n",
       "3         94.32  \n",
       "4         95.83  "
      ]
     },
     "execution_count": 18,
     "metadata": {},
     "output_type": "execute_result"
    }
   ],
   "source": [
    "storeinfo.head()"
   ]
  },
  {
   "cell_type": "code",
   "execution_count": null,
   "metadata": {},
   "outputs": [],
   "source": []
  }
 ],
 "metadata": {
  "kernelspec": {
   "display_name": "Python 3",
   "language": "python",
   "name": "python3"
  },
  "language_info": {
   "codemirror_mode": {
    "name": "ipython",
    "version": 3
   },
   "file_extension": ".py",
   "mimetype": "text/x-python",
   "name": "python",
   "nbconvert_exporter": "python",
   "pygments_lexer": "ipython3",
   "version": "3.7.0"
  }
 },
 "nbformat": 4,
 "nbformat_minor": 2
}
